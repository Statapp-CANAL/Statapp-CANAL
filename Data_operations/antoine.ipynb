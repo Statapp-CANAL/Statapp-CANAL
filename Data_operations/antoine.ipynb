{
 "cells": [
  {
   "cell_type": "code",
   "execution_count": 21,
   "metadata": {},
   "outputs": [],
   "source": [
    "data_path = \"/Users/antoine/Documents/ENSAE2A/Codeperso/everything/Statappperso/Ressources/\""
   ]
  },
  {
   "cell_type": "code",
   "execution_count": 22,
   "metadata": {},
   "outputs": [],
   "source": [
    "from Tool_Functions.cleaning_data import * \n",
    "\n",
    "from Clustering.new_data_set_all import * \n",
    "from Clustering.viualize_datas import * \n",
    "from Clustering.new_data_set_all import *\n",
    "\n",
    "from matplotlib.backends.backend_pdf import PdfPages\n",
    "import pandas as pd\n",
    "import matplotlib.pyplot as plt\n"
   ]
  },
  {
   "cell_type": "code",
   "execution_count": 24,
   "metadata": {},
   "outputs": [],
   "source": [
    "def clean_new_df(data_path):\n",
    "    df = file_to_dataframe(data_path + 'New_abos.csv')\n",
    "    df = df.rename( columns= {'DAT_MVT_REELLE' : 'DATE_ACTE_REEL'})\n",
    "    df['DATE_ACTE_REEL'] = pd.to_datetime(df['DATE_ACTE_REEL'])\n",
    "    save_to_csv_file(df, data_path + 'new_abos.csv')\n",
    "    return True\n",
    "    "
   ]
  },
  {
   "cell_type": "code",
   "execution_count": 25,
   "metadata": {},
   "outputs": [
    {
     "data": {
      "text/plain": [
       "True"
      ]
     },
     "execution_count": 25,
     "metadata": {},
     "output_type": "execute_result"
    }
   ],
   "source": [
    "clean_new_df(data_path)"
   ]
  },
  {
   "cell_type": "code",
   "execution_count": 26,
   "metadata": {},
   "outputs": [],
   "source": [
    "def upload_new_df(data_path):\n",
    "    df_original = file_to_dataframe(data_path + \"df_Donnees_Reabos_odd_v2.csv\")\n",
    "    dfn = file_to_dataframe(data_path + 'New_abos.csv')\n",
    "    df_test = join_dataFrames_outer(df_original,dfn, 'ID_ABONNE')\n",
    "    df_test['DATE_ACTE_REEL_x'].fillna(df_test['DATE_ACTE_REEL_y'], inplace=True)\n",
    "    df_test.drop(columns=['DATE_ACTE_REEL_y'], inplace=True)\n",
    "    df_test = df_test.rename( columns= {'DATE_ACTE_REEL_x' : 'DATE_ACTE_REEL'})\n",
    "    save_to_csv_file(df_test, data_path + 'total_df.csv')\n",
    "    return True"
   ]
  },
  {
   "cell_type": "code",
   "execution_count": 27,
   "metadata": {},
   "outputs": [
    {
     "name": "stderr",
     "output_type": "stream",
     "text": [
      "/Users/antoine/Documents/ENSAE2A/Codeperso/everything/Statappperso/Statapp-CANAL-1/Data_operations/Tool_Functions/join_data.py:14: DtypeWarning: Columns (3) have mixed types. Specify dtype option on import or set low_memory=False.\n",
      "  datas = pd.read_csv(filename,delimiter=st)\n"
     ]
    },
    {
     "data": {
      "text/plain": [
       "True"
      ]
     },
     "execution_count": 27,
     "metadata": {},
     "output_type": "execute_result"
    }
   ],
   "source": [
    "upload_new_df(data_path)"
   ]
  },
  {
   "cell_type": "code",
   "execution_count": 31,
   "metadata": {},
   "outputs": [],
   "source": [
    "def upload_new_df_clusters(data_path):\n",
    "    df_test = file_to_dataframe(data_path + 'total_df.csv')\n",
    "    df_id = file_to_dataframe(data_path + 'df_id.csv')\n",
    "    df_merge = pd.merge(df_test, df_id, on='ID_ABONNE', how='left')\n",
    "    df_merge['Cluster_8'].fillna('unclustered', inplace=True)\n",
    "    save_to_csv_file(df_merge, data_path + 'total_df_clusters.csv')\n",
    "    return True"
   ]
  },
  {
   "cell_type": "code",
   "execution_count": 32,
   "metadata": {},
   "outputs": [
    {
     "name": "stderr",
     "output_type": "stream",
     "text": [
      "/var/folders/md/_fklkl9s1z9gj6bpnwj204y40000gn/T/ipykernel_4990/1503170786.py:5: FutureWarning: Setting an item of incompatible dtype is deprecated and will raise in a future error of pandas. Value 'unclustered' has dtype incompatible with float64, please explicitly cast to a compatible dtype first.\n",
      "  df_merge['Cluster_8'].fillna('unclustered', inplace=True)\n"
     ]
    },
    {
     "data": {
      "text/plain": [
       "True"
      ]
     },
     "execution_count": 32,
     "metadata": {},
     "output_type": "execute_result"
    }
   ],
   "source": [
    "upload_new_df_clusters(data_path)"
   ]
  },
  {
   "cell_type": "code",
   "execution_count": 33,
   "metadata": {},
   "outputs": [
    {
     "name": "stderr",
     "output_type": "stream",
     "text": [
      "/Users/antoine/Documents/ENSAE2A/Codeperso/everything/Statappperso/Statapp-CANAL-1/Data_operations/Tool_Functions/join_data.py:14: DtypeWarning: Columns (3) have mixed types. Specify dtype option on import or set low_memory=False.\n",
      "  datas = pd.read_csv(filename,delimiter=st)\n"
     ]
    }
   ],
   "source": [
    "df_truncated = file_to_dataframe(data_path + 'df_Données_Reabos_odd_final.csv')\n",
    "df_original = file_to_dataframe(data_path + \"df_Donnees_Reabos_odd_v2.csv\")\n",
    "dfn = file_to_dataframe(data_path + 'New_abos.csv')\n",
    "df_test = file_to_dataframe(data_path + 'total_df.csv')\n",
    "df_clusters = file_to_dataframe(data_path + 'df_all_clusters_final.csv')\n",
    "df_id = file_to_dataframe(data_path + 'df_id.csv')\n",
    "df_all_clusters = file_to_dataframe(data_path + 'total_df_clusters.csv')"
   ]
  }
 ],
 "metadata": {
  "kernelspec": {
   "display_name": "Python 3",
   "language": "python",
   "name": "python3"
  },
  "language_info": {
   "codemirror_mode": {
    "name": "ipython",
    "version": 3
   },
   "file_extension": ".py",
   "mimetype": "text/x-python",
   "name": "python",
   "nbconvert_exporter": "python",
   "pygments_lexer": "ipython3",
   "version": "3.9.6"
  },
  "orig_nbformat": 4
 },
 "nbformat": 4,
 "nbformat_minor": 2
}
