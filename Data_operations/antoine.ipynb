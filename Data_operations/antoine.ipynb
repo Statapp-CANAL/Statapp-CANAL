{
 "cells": [
  {
   "cell_type": "code",
   "execution_count": 1,
   "metadata": {},
   "outputs": [],
   "source": [
    "data_path = \"/Users/antoine/Documents/ENSAE2A/Codeperso/everything/Statappperso/Ressources/\""
   ]
  },
  {
   "cell_type": "code",
   "execution_count": 2,
   "metadata": {},
   "outputs": [],
   "source": [
    "from Tool_Functions.cleaning_data import * \n",
    "\n",
    "from Clustering.new_data_set_all import * \n",
    "from Clustering.viualize_datas import * \n",
    "from Clustering.new_data_set_all import *\n",
    "\n",
    "from matplotlib.backends.backend_pdf import PdfPages\n",
    "import pandas as pd\n",
    "import matplotlib.pyplot as plt\n"
   ]
  },
  {
   "cell_type": "code",
   "execution_count": 24,
   "metadata": {},
   "outputs": [],
   "source": [
    "def clean_new_df(data_path):\n",
    "    df = file_to_dataframe(data_path + 'New_abos.csv')\n",
    "    df = df.rename( columns= {'DAT_MVT_REELLE' : 'DATE_ACTE_REEL'})\n",
    "    df['DATE_ACTE_REEL'] = pd.to_datetime(df['DATE_ACTE_REEL'])\n",
    "    save_to_csv_file(df, data_path + 'new_abos.csv')\n",
    "    return True\n",
    "    "
   ]
  },
  {
   "cell_type": "code",
   "execution_count": 25,
   "metadata": {},
   "outputs": [
    {
     "data": {
      "text/plain": [
       "True"
      ]
     },
     "execution_count": 25,
     "metadata": {},
     "output_type": "execute_result"
    }
   ],
   "source": [
    "clean_new_df(data_path)"
   ]
  },
  {
   "cell_type": "code",
   "execution_count": 26,
   "metadata": {},
   "outputs": [],
   "source": [
    "def upload_new_df(data_path):\n",
    "    df_original = file_to_dataframe(data_path + \"df_Donnees_Reabos_odd_v2.csv\")\n",
    "    dfn = file_to_dataframe(data_path + 'New_abos.csv')\n",
    "    df_test = join_dataFrames_outer(df_original,dfn, 'ID_ABONNE')\n",
    "    df_test['DATE_ACTE_REEL_x'].fillna(df_test['DATE_ACTE_REEL_y'], inplace=True)\n",
    "    df_test.drop(columns=['DATE_ACTE_REEL_y'], inplace=True)\n",
    "    df_test = df_test.rename( columns= {'DATE_ACTE_REEL_x' : 'DATE_ACTE_REEL'})\n",
    "    save_to_csv_file(df_test, data_path + 'total_df.csv')\n",
    "    return True"
   ]
  },
  {
   "cell_type": "code",
   "execution_count": 27,
   "metadata": {},
   "outputs": [
    {
     "name": "stderr",
     "output_type": "stream",
     "text": [
      "/Users/antoine/Documents/ENSAE2A/Codeperso/everything/Statappperso/Statapp-CANAL-1/Data_operations/Tool_Functions/join_data.py:14: DtypeWarning: Columns (3) have mixed types. Specify dtype option on import or set low_memory=False.\n",
      "  datas = pd.read_csv(filename,delimiter=st)\n"
     ]
    },
    {
     "data": {
      "text/plain": [
       "True"
      ]
     },
     "execution_count": 27,
     "metadata": {},
     "output_type": "execute_result"
    }
   ],
   "source": [
    "upload_new_df(data_path)"
   ]
  },
  {
   "cell_type": "code",
   "execution_count": 31,
   "metadata": {},
   "outputs": [],
   "source": [
    "def upload_new_df_clusters(data_path):\n",
    "    df_test = file_to_dataframe(data_path + 'total_df.csv')\n",
    "    df_id = file_to_dataframe(data_path + 'df_id.csv')\n",
    "    df_merge = pd.merge(df_test, df_id, on='ID_ABONNE', how='left')\n",
    "    df_merge['Cluster_8'].fillna('unclustered', inplace=True)\n",
    "    save_to_csv_file(df_merge, data_path + 'total_df_clusters.csv')\n",
    "    return True"
   ]
  },
  {
   "cell_type": "code",
   "execution_count": 32,
   "metadata": {},
   "outputs": [
    {
     "name": "stderr",
     "output_type": "stream",
     "text": [
      "/var/folders/md/_fklkl9s1z9gj6bpnwj204y40000gn/T/ipykernel_4990/1503170786.py:5: FutureWarning: Setting an item of incompatible dtype is deprecated and will raise in a future error of pandas. Value 'unclustered' has dtype incompatible with float64, please explicitly cast to a compatible dtype first.\n",
      "  df_merge['Cluster_8'].fillna('unclustered', inplace=True)\n"
     ]
    },
    {
     "data": {
      "text/plain": [
       "True"
      ]
     },
     "execution_count": 32,
     "metadata": {},
     "output_type": "execute_result"
    }
   ],
   "source": [
    "upload_new_df_clusters(data_path)"
   ]
  },
  {
   "cell_type": "code",
   "execution_count": null,
   "metadata": {},
   "outputs": [],
   "source": [
    "df_truncated = file_to_dataframe(data_path + 'df_Données_Reabos_odd_final.csv')\n",
    "df_original = file_to_dataframe(data_path + \"df_Donnees_Reabos_odd_v2.csv\")\n",
    "dfn = file_to_dataframe(data_path + 'New_abos.csv')\n",
    "df_test = file_to_dataframe(data_path + 'total_df.csv')\n",
    "df_clusters = file_to_dataframe(data_path + 'df_all_clusters_final.csv')\n",
    "df_id = file_to_dataframe(data_path + 'df_id.csv')\n",
    "df_all_clusters = file_to_dataframe(data_path + 'total_df_clusters.csv')"
   ]
  },
  {
   "cell_type": "code",
   "execution_count": 4,
   "metadata": {},
   "outputs": [],
   "source": [
    "dfn = file_to_dataframe(data_path + 'New_abos.csv')"
   ]
  },
  {
   "cell_type": "code",
   "execution_count": 9,
   "metadata": {},
   "outputs": [],
   "source": [
    "odd = dfn[dfn['DATE_ACTE_REEL'] >= '2023-11-14']"
   ]
  },
  {
   "cell_type": "code",
   "execution_count": 10,
   "metadata": {},
   "outputs": [
    {
     "data": {
      "text/html": [
       "<div>\n",
       "<style scoped>\n",
       "    .dataframe tbody tr th:only-of-type {\n",
       "        vertical-align: middle;\n",
       "    }\n",
       "\n",
       "    .dataframe tbody tr th {\n",
       "        vertical-align: top;\n",
       "    }\n",
       "\n",
       "    .dataframe thead th {\n",
       "        text-align: right;\n",
       "    }\n",
       "</style>\n",
       "<table border=\"1\" class=\"dataframe\">\n",
       "  <thead>\n",
       "    <tr style=\"text-align: right;\">\n",
       "      <th></th>\n",
       "      <th>DATE_ACTE_REEL</th>\n",
       "      <th>ID_ABONNE</th>\n",
       "    </tr>\n",
       "  </thead>\n",
       "  <tbody>\n",
       "    <tr>\n",
       "      <th>1308</th>\n",
       "      <td>2023-11-30</td>\n",
       "      <td>52923737701</td>\n",
       "    </tr>\n",
       "    <tr>\n",
       "      <th>1309</th>\n",
       "      <td>2023-11-28</td>\n",
       "      <td>52962677501</td>\n",
       "    </tr>\n",
       "    <tr>\n",
       "      <th>1310</th>\n",
       "      <td>2023-11-30</td>\n",
       "      <td>52974929601</td>\n",
       "    </tr>\n",
       "    <tr>\n",
       "      <th>1311</th>\n",
       "      <td>2023-11-30</td>\n",
       "      <td>52949449801</td>\n",
       "    </tr>\n",
       "    <tr>\n",
       "      <th>1312</th>\n",
       "      <td>2023-11-30</td>\n",
       "      <td>52960788501</td>\n",
       "    </tr>\n",
       "    <tr>\n",
       "      <th>...</th>\n",
       "      <td>...</td>\n",
       "      <td>...</td>\n",
       "    </tr>\n",
       "    <tr>\n",
       "      <th>458815</th>\n",
       "      <td>2023-11-24</td>\n",
       "      <td>52941583801</td>\n",
       "    </tr>\n",
       "    <tr>\n",
       "      <th>458816</th>\n",
       "      <td>2023-11-28</td>\n",
       "      <td>52058240301</td>\n",
       "    </tr>\n",
       "    <tr>\n",
       "      <th>458818</th>\n",
       "      <td>2023-11-25</td>\n",
       "      <td>51943996401</td>\n",
       "    </tr>\n",
       "    <tr>\n",
       "      <th>458819</th>\n",
       "      <td>2023-11-23</td>\n",
       "      <td>52221512101</td>\n",
       "    </tr>\n",
       "    <tr>\n",
       "      <th>458820</th>\n",
       "      <td>2023-11-27</td>\n",
       "      <td>51049959201</td>\n",
       "    </tr>\n",
       "  </tbody>\n",
       "</table>\n",
       "<p>235246 rows × 2 columns</p>\n",
       "</div>"
      ],
      "text/plain": [
       "       DATE_ACTE_REEL    ID_ABONNE\n",
       "1308       2023-11-30  52923737701\n",
       "1309       2023-11-28  52962677501\n",
       "1310       2023-11-30  52974929601\n",
       "1311       2023-11-30  52949449801\n",
       "1312       2023-11-30  52960788501\n",
       "...               ...          ...\n",
       "458815     2023-11-24  52941583801\n",
       "458816     2023-11-28  52058240301\n",
       "458818     2023-11-25  51943996401\n",
       "458819     2023-11-23  52221512101\n",
       "458820     2023-11-27  51049959201\n",
       "\n",
       "[235246 rows x 2 columns]"
      ]
     },
     "execution_count": 10,
     "metadata": {},
     "output_type": "execute_result"
    }
   ],
   "source": [
    "odd"
   ]
  },
  {
   "cell_type": "code",
   "execution_count": 13,
   "metadata": {},
   "outputs": [],
   "source": [
    "sg = dfn[dfn['DATE_ACTE_REEL'] < '2023-11-14']"
   ]
  },
  {
   "cell_type": "code",
   "execution_count": 14,
   "metadata": {},
   "outputs": [
    {
     "data": {
      "text/html": [
       "<div>\n",
       "<style scoped>\n",
       "    .dataframe tbody tr th:only-of-type {\n",
       "        vertical-align: middle;\n",
       "    }\n",
       "\n",
       "    .dataframe tbody tr th {\n",
       "        vertical-align: top;\n",
       "    }\n",
       "\n",
       "    .dataframe thead th {\n",
       "        text-align: right;\n",
       "    }\n",
       "</style>\n",
       "<table border=\"1\" class=\"dataframe\">\n",
       "  <thead>\n",
       "    <tr style=\"text-align: right;\">\n",
       "      <th></th>\n",
       "      <th>DATE_ACTE_REEL</th>\n",
       "      <th>ID_ABONNE</th>\n",
       "    </tr>\n",
       "  </thead>\n",
       "  <tbody>\n",
       "    <tr>\n",
       "      <th>0</th>\n",
       "      <td>2023-11-01</td>\n",
       "      <td>50950213101</td>\n",
       "    </tr>\n",
       "    <tr>\n",
       "      <th>1</th>\n",
       "      <td>2023-11-01</td>\n",
       "      <td>50955287201</td>\n",
       "    </tr>\n",
       "    <tr>\n",
       "      <th>2</th>\n",
       "      <td>2023-11-01</td>\n",
       "      <td>50960236001</td>\n",
       "    </tr>\n",
       "    <tr>\n",
       "      <th>3</th>\n",
       "      <td>2023-11-01</td>\n",
       "      <td>50977036901</td>\n",
       "    </tr>\n",
       "    <tr>\n",
       "      <th>4</th>\n",
       "      <td>2023-11-01</td>\n",
       "      <td>50933674101</td>\n",
       "    </tr>\n",
       "    <tr>\n",
       "      <th>...</th>\n",
       "      <td>...</td>\n",
       "      <td>...</td>\n",
       "    </tr>\n",
       "    <tr>\n",
       "      <th>458796</th>\n",
       "      <td>2023-11-11</td>\n",
       "      <td>52915440701</td>\n",
       "    </tr>\n",
       "    <tr>\n",
       "      <th>458803</th>\n",
       "      <td>2023-11-12</td>\n",
       "      <td>52802399601</td>\n",
       "    </tr>\n",
       "    <tr>\n",
       "      <th>458805</th>\n",
       "      <td>2023-11-01</td>\n",
       "      <td>50414368401</td>\n",
       "    </tr>\n",
       "    <tr>\n",
       "      <th>458811</th>\n",
       "      <td>2023-11-04</td>\n",
       "      <td>52287139301</td>\n",
       "    </tr>\n",
       "    <tr>\n",
       "      <th>458817</th>\n",
       "      <td>2023-11-10</td>\n",
       "      <td>50416372502</td>\n",
       "    </tr>\n",
       "  </tbody>\n",
       "</table>\n",
       "<p>223575 rows × 2 columns</p>\n",
       "</div>"
      ],
      "text/plain": [
       "       DATE_ACTE_REEL    ID_ABONNE\n",
       "0          2023-11-01  50950213101\n",
       "1          2023-11-01  50955287201\n",
       "2          2023-11-01  50960236001\n",
       "3          2023-11-01  50977036901\n",
       "4          2023-11-01  50933674101\n",
       "...               ...          ...\n",
       "458796     2023-11-11  52915440701\n",
       "458803     2023-11-12  52802399601\n",
       "458805     2023-11-01  50414368401\n",
       "458811     2023-11-04  52287139301\n",
       "458817     2023-11-10  50416372502\n",
       "\n",
       "[223575 rows x 2 columns]"
      ]
     },
     "execution_count": 14,
     "metadata": {},
     "output_type": "execute_result"
    }
   ],
   "source": [
    "sg"
   ]
  },
  {
   "cell_type": "code",
   "execution_count": 16,
   "metadata": {},
   "outputs": [],
   "source": [
    "pile = dfn[dfn['DATE_ACTE_REEL'] == '2023-11-14']"
   ]
  },
  {
   "cell_type": "code",
   "execution_count": 17,
   "metadata": {},
   "outputs": [
    {
     "data": {
      "text/html": [
       "<div>\n",
       "<style scoped>\n",
       "    .dataframe tbody tr th:only-of-type {\n",
       "        vertical-align: middle;\n",
       "    }\n",
       "\n",
       "    .dataframe tbody tr th {\n",
       "        vertical-align: top;\n",
       "    }\n",
       "\n",
       "    .dataframe thead th {\n",
       "        text-align: right;\n",
       "    }\n",
       "</style>\n",
       "<table border=\"1\" class=\"dataframe\">\n",
       "  <thead>\n",
       "    <tr style=\"text-align: right;\">\n",
       "      <th></th>\n",
       "      <th>DATE_ACTE_REEL</th>\n",
       "      <th>ID_ABONNE</th>\n",
       "    </tr>\n",
       "  </thead>\n",
       "  <tbody>\n",
       "    <tr>\n",
       "      <th>2656</th>\n",
       "      <td>2023-11-14</td>\n",
       "      <td>50815164501</td>\n",
       "    </tr>\n",
       "    <tr>\n",
       "      <th>2663</th>\n",
       "      <td>2023-11-14</td>\n",
       "      <td>50416328801</td>\n",
       "    </tr>\n",
       "    <tr>\n",
       "      <th>2682</th>\n",
       "      <td>2023-11-14</td>\n",
       "      <td>50417847801</td>\n",
       "    </tr>\n",
       "    <tr>\n",
       "      <th>3281</th>\n",
       "      <td>2023-11-14</td>\n",
       "      <td>51710404301</td>\n",
       "    </tr>\n",
       "    <tr>\n",
       "      <th>3301</th>\n",
       "      <td>2023-11-14</td>\n",
       "      <td>53043556101</td>\n",
       "    </tr>\n",
       "    <tr>\n",
       "      <th>...</th>\n",
       "      <td>...</td>\n",
       "      <td>...</td>\n",
       "    </tr>\n",
       "    <tr>\n",
       "      <th>458365</th>\n",
       "      <td>2023-11-14</td>\n",
       "      <td>53178505601</td>\n",
       "    </tr>\n",
       "    <tr>\n",
       "      <th>458464</th>\n",
       "      <td>2023-11-14</td>\n",
       "      <td>52128238901</td>\n",
       "    </tr>\n",
       "    <tr>\n",
       "      <th>458514</th>\n",
       "      <td>2023-11-14</td>\n",
       "      <td>52079666001</td>\n",
       "    </tr>\n",
       "    <tr>\n",
       "      <th>458649</th>\n",
       "      <td>2023-11-14</td>\n",
       "      <td>52841529401</td>\n",
       "    </tr>\n",
       "    <tr>\n",
       "      <th>458653</th>\n",
       "      <td>2023-11-14</td>\n",
       "      <td>52694863401</td>\n",
       "    </tr>\n",
       "  </tbody>\n",
       "</table>\n",
       "<p>14918 rows × 2 columns</p>\n",
       "</div>"
      ],
      "text/plain": [
       "       DATE_ACTE_REEL    ID_ABONNE\n",
       "2656       2023-11-14  50815164501\n",
       "2663       2023-11-14  50416328801\n",
       "2682       2023-11-14  50417847801\n",
       "3281       2023-11-14  51710404301\n",
       "3301       2023-11-14  53043556101\n",
       "...               ...          ...\n",
       "458365     2023-11-14  53178505601\n",
       "458464     2023-11-14  52128238901\n",
       "458514     2023-11-14  52079666001\n",
       "458649     2023-11-14  52841529401\n",
       "458653     2023-11-14  52694863401\n",
       "\n",
       "[14918 rows x 2 columns]"
      ]
     },
     "execution_count": 17,
     "metadata": {},
     "output_type": "execute_result"
    }
   ],
   "source": [
    "pile"
   ]
  },
  {
   "cell_type": "code",
   "execution_count": 19,
   "metadata": {},
   "outputs": [],
   "source": [
    "lejouravant = dfn[dfn['DATE_ACTE_REEL'] == '2023-11-13']"
   ]
  }
 ],
 "metadata": {
  "kernelspec": {
   "display_name": "Python 3",
   "language": "python",
   "name": "python3"
  },
  "language_info": {
   "codemirror_mode": {
    "name": "ipython",
    "version": 3
   },
   "file_extension": ".py",
   "mimetype": "text/x-python",
   "name": "python",
   "nbconvert_exporter": "python",
   "pygments_lexer": "ipython3",
   "version": "3.9.6"
  },
  "orig_nbformat": 4
 },
 "nbformat": 4,
 "nbformat_minor": 2
}
