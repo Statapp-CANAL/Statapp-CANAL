{
 "cells": [
  {
   "cell_type": "code",
   "execution_count": null,
   "metadata": {},
   "outputs": [],
   "source": [
    "data_path = \"\"  # Precise data Path"
   ]
  },
  {
   "cell_type": "code",
   "execution_count": 3,
   "metadata": {},
   "outputs": [],
   "source": [
    "from tool_functions.cleaning_data import *\n",
    "\n",
    "from clustering.new_data_set_all import *\n",
    "from clustering.viualize_datas import *\n",
    "from clustering.new_data_set_all import *\n",
    "\n",
    "from matplotlib.backends.backend_pdf import PdfPages\n",
    "import pandas as pd\n",
    "import matplotlib.pyplot as plt"
   ]
  },
  {
   "cell_type": "code",
   "execution_count": null,
   "metadata": {},
   "outputs": [],
   "source": [
    "new = file_to_dataframe(data_path + \"new_abos.csv\")\n",
    "cluster_id = file_to_dataframe(\n",
    "    data_path + \"clustering_results/final_partiel/clusters_id_partiel.csv\"\n",
    ")\n",
    "cluster_id_all = file_to_dataframe(\n",
    "    data_path + \"clustering_results/final_total/clusters_id_all.csv\"\n",
    ")"
   ]
  },
  {
   "attachments": {},
   "cell_type": "markdown",
   "metadata": {},
   "source": [
    "1 / graph pour lisibilité\n",
    "2 / comparer avant et après ODD"
   ]
  },
  {
   "cell_type": "code",
   "execution_count": null,
   "metadata": {},
   "outputs": [],
   "source": [
    "dfn = file_to_dataframe(data_path + \"New_abos.csv\")\n",
    "odd = dfn[dfn[\"DATE_ACTE_REEL\"] >= \"2023-11-14\"]\n",
    "sg = dfn[dfn[\"DATE_ACTE_REEL\"] < \"2023-11-14\"]\n",
    "pile = dfn[dfn[\"DATE_ACTE_REEL\"] == \"2023-11-14\"]\n",
    "lejouravant = dfn[dfn[\"DATE_ACTE_REEL\"] == \"2023-11-13\"]"
   ]
  },
  {
   "cell_type": "code",
   "execution_count": null,
   "metadata": {},
   "outputs": [],
   "source": [
    "df_repartition_promo = count_abo_conditions(dfn, [\"DATE_ACTE_REEL\"], \"ID_ABONNE\")\n",
    "df_repartition_promo"
   ]
  },
  {
   "cell_type": "code",
   "execution_count": null,
   "metadata": {},
   "outputs": [],
   "source": [
    "before_date = df_repartition_promo[\n",
    "    df_repartition_promo[\"DATE_ACTE_REEL\"] < \"2023-11-14\"\n",
    "]\n",
    "after_date = df_repartition_promo[\n",
    "    df_repartition_promo[\"DATE_ACTE_REEL\"] >= \"2023-11-14\"\n",
    "]\n",
    "\n",
    "sns.lineplot(\n",
    "    x=\"DATE_ACTE_REEL\",\n",
    "    y=\"NB_ID_ABONNE\",\n",
    "    data=before_date.sort_values(by=\"DATE_ACTE_REEL\"),\n",
    "    color=\"black\",\n",
    ")\n",
    "sns.lineplot(\n",
    "    x=\"DATE_ACTE_REEL\",\n",
    "    y=\"NB_ID_ABONNE\",\n",
    "    data=after_date.sort_values(by=\"DATE_ACTE_REEL\"),\n",
    "    color=\"red\",\n",
    ")\n",
    "\n",
    "plt.title(\"Evolution of quantity over time\")\n",
    "plt.xlabel(\"DATE_ACTE_REEL\")\n",
    "plt.ylabel(\"NB_ID_ABONNE\")\n",
    "plt.legend([\"Before 2023-11-14\", \"After 2023-11-14\"])\n",
    "plt.show()"
   ]
  },
  {
   "cell_type": "code",
   "execution_count": null,
   "metadata": {},
   "outputs": [],
   "source": [
    "tous = join_dataFrames(dfn, cluster_id_all, \"ID_ABONNE\")\n",
    "total2 = file_to_dataframe(data_path + \"total2.csv\")\n",
    "liste = tous.groupby([\"KMEANS\"]).count()\n",
    "donnees = pd.DataFrame(liste)\n",
    "donnees[\"KMEANS2\"] = donnees.index\n",
    "\n",
    "plt.figure(figsize=(10, 6))\n",
    "plt.bar(donnees[\"KMEANS2\"], donnees[\"ID_ABONNE\"], color=\"black\")\n",
    "plt.xlabel(\"KMEANS\")\n",
    "plt.ylabel(\"Nombre de valeurs\")\n",
    "plt.title(\"Nombre de valeurs par KMEANS\")\n",
    "plt.xticks(donnees[\"KMEANS2\"])\n",
    "plt.show()"
   ]
  },
  {
   "cell_type": "code",
   "execution_count": null,
   "metadata": {},
   "outputs": [],
   "source": [
    "merged_df = pd.merge(donnees, total2, on=\"KMEANS2\", how=\"left\")\n",
    "merged_df[\"Percentage\"] = (merged_df[\"ID_ABONNE_x\"] / merged_df[\"ID_ABONNE_y\"]) * 100\n",
    "\n",
    "plt.figure(figsize=(10, 6))\n",
    "plt.bar(merged_df[\"KMEANS2\"], merged_df[\"Percentage\"], color=\"black\")\n",
    "plt.xlabel(\"KMEANS\")\n",
    "plt.ylabel(\"Pourcentage de réabonnement\")\n",
    "plt.title(\"Nombre de valeurs par KMEANS\")\n",
    "plt.xticks(merged_df[\"KMEANS2\"])\n",
    "plt.show()"
   ]
  },
  {
   "cell_type": "code",
   "execution_count": null,
   "metadata": {},
   "outputs": [],
   "source": [
    "tousp = join_dataFrames(dfn, cluster_id, \"ID_ABONNE\")\n",
    "total1 = file_to_dataframe(data_path + \"total1.csv\")\n",
    "liste = tousp.groupby([\"Cluster_8\"]).count()\n",
    "donneesp = pd.DataFrame(liste)\n",
    "donneesp[\"KMEANS\"] = donneesp.index\n",
    "\n",
    "plt.figure(figsize=(10, 6))\n",
    "plt.bar(donneesp[\"KMEANS\"], donneesp[\"ID_ABONNE\"], color=\"brown\")\n",
    "plt.xlabel(\"KMEANS\")\n",
    "plt.ylabel(\"Nombre de valeurs\")\n",
    "plt.title(\"Nombre de valeurs par KMEANS\")\n",
    "plt.xticks(donneesp[\"KMEANS\"])\n",
    "plt.show()"
   ]
  },
  {
   "cell_type": "code",
   "execution_count": null,
   "metadata": {},
   "outputs": [],
   "source": [
    "merged_df = pd.merge(donneesp, total1, on=\"KMEANS\", how=\"left\")\n",
    "merged_df[\"Percentage\"] = (merged_df[\"ID_ABONNE_x\"] / merged_df[\"ID_ABONNE_y\"]) * 100\n",
    "\n",
    "plt.figure(figsize=(10, 6))\n",
    "plt.bar(merged_df[\"KMEANS\"], merged_df[\"Percentage\"], color=\"brown\")\n",
    "plt.xlabel(\"KMEANS\")\n",
    "plt.ylabel(\"Pourcentage de réabonnement\")\n",
    "plt.title(\"Nombre de valeurs par KMEANS\")\n",
    "plt.xticks(merged_df[\"KMEANS\"])\n",
    "plt.show()"
   ]
  },
  {
   "cell_type": "code",
   "execution_count": null,
   "metadata": {},
   "outputs": [],
   "source": [
    "rep_odd = join_dataFrames(odd, cluster_id_all, \"ID_ABONNE\")\n",
    "liste = rep_odd.groupby([\"KMEANS\"]).count()\n",
    "donnees_odd = pd.DataFrame(liste)\n",
    "donnees_odd[\"KMEANS2\"] = donnees_odd.index\n",
    "\n",
    "plt.figure(figsize=(10, 6))\n",
    "plt.bar(donnees_odd[\"KMEANS2\"], donnees_odd[\"ID_ABONNE\"], color=\"red\")\n",
    "plt.xlabel(\"KMEANS\")\n",
    "plt.ylabel(\"Nombre de valeurs\")\n",
    "plt.title(\"Nombre de valeurs par KMEANS\")\n",
    "plt.xticks(donnees_odd[\"KMEANS2\"])\n",
    "plt.show()"
   ]
  },
  {
   "cell_type": "code",
   "execution_count": null,
   "metadata": {},
   "outputs": [],
   "source": [
    "merged_df = pd.merge(donnees_odd, total2, on=\"KMEANS2\", how=\"left\")\n",
    "merged_df[\"Percentage\"] = (merged_df[\"ID_ABONNE_x\"] / merged_df[\"ID_ABONNE_y\"]) * 100\n",
    "\n",
    "plt.figure(figsize=(10, 6))\n",
    "plt.bar(merged_df[\"KMEANS2\"], merged_df[\"Percentage\"], color=\"red\")\n",
    "plt.xlabel(\"KMEANS\")\n",
    "plt.ylabel(\"Pourcentage de réabonnement\")\n",
    "plt.title(\"Pourcentage de réabos des clusters en ODD total\")\n",
    "plt.xticks(merged_df[\"KMEANS2\"])\n",
    "plt.show()"
   ]
  },
  {
   "cell_type": "code",
   "execution_count": null,
   "metadata": {},
   "outputs": [],
   "source": [
    "rep_odd_p = join_dataFrames(odd, cluster_id, \"ID_ABONNE\")\n",
    "liste = rep_odd_p.groupby([\"Cluster_8\"]).count()\n",
    "donnees_odd_p = pd.DataFrame(liste)\n",
    "donnees_odd_p[\"KMEANS\"] = donnees_odd_p.index\n",
    "plt.figure(figsize=(10, 6))\n",
    "plt.bar(donnees_odd_p[\"KMEANS\"], donnees_odd_p[\"ID_ABONNE\"], color=\"yellow\")\n",
    "plt.xlabel(\"Cluster_8\")\n",
    "plt.ylabel(\"Nombre de valeurs\")\n",
    "plt.title(\"Nombre de valeurs par Cluster\")\n",
    "plt.xticks(donnees_odd_p[\"KMEANS\"])\n",
    "plt.show()"
   ]
  },
  {
   "cell_type": "code",
   "execution_count": null,
   "metadata": {},
   "outputs": [],
   "source": [
    "merged_odd_p = pd.merge(donnees_odd_p, total1, on=\"KMEANS\", how=\"left\")\n",
    "merged_odd_p[\"Percentage\"] = (\n",
    "    merged_odd_p[\"ID_ABONNE_x\"] / merged_odd_p[\"ID_ABONNE_y\"]\n",
    ") * 100\n",
    "\n",
    "plt.figure(figsize=(10, 6))\n",
    "plt.bar(merged_odd_p[\"KMEANS\"], merged_odd_p[\"Percentage\"], color=\"yellow\")\n",
    "plt.xlabel(\"KMEANS\")\n",
    "plt.ylabel(\"Pourcentage de réabonnement\")\n",
    "plt.title(\"Pourcentage de réabos des clusters en ODD\")\n",
    "plt.xticks(merged_odd_p[\"KMEANS\"])\n",
    "plt.show()"
   ]
  },
  {
   "cell_type": "code",
   "execution_count": null,
   "metadata": {},
   "outputs": [],
   "source": [
    "rep_sg = join_dataFrames(sg, cluster_id_all, \"ID_ABONNE\")\n",
    "liste = rep_sg.groupby([\"KMEANS\"]).count()\n",
    "donnees_sg = pd.DataFrame(liste)\n",
    "donnees_sg[\"KMEANS2\"] = donnees_sg.index\n",
    "\n",
    "plt.figure(figsize=(10, 6))\n",
    "plt.bar(donnees_sg[\"KMEANS2\"], donnees_sg[\"ID_ABONNE\"], color=\"skyblue\")\n",
    "plt.xlabel(\"KMEANS\")\n",
    "plt.ylabel(\"Nombre de valeurs\")\n",
    "plt.title(\"Nombre de valeurs par KMEANS\")\n",
    "plt.xticks(donnees_sg[\"KMEANS2\"])\n",
    "plt.show()"
   ]
  },
  {
   "cell_type": "code",
   "execution_count": null,
   "metadata": {},
   "outputs": [],
   "source": [
    "merged_sg = pd.merge(donnees_sg, total2, on=\"KMEANS2\", how=\"left\")\n",
    "merged_sg[\"Percentage\"] = (merged_sg[\"ID_ABONNE_x\"] / merged_sg[\"ID_ABONNE_y\"]) * 100\n",
    "\n",
    "plt.figure(figsize=(10, 6))\n",
    "plt.bar(merged_sg[\"KMEANS2\"], merged_sg[\"Percentage\"], color=\"skyblue\")\n",
    "plt.xlabel(\"KMEANS\")\n",
    "plt.ylabel(\"Pourcentage de réabonnement\")\n",
    "plt.title(\"Pourcentage de réabos des clusters en SG total\")\n",
    "plt.xticks(merged_sg[\"KMEANS2\"])\n",
    "plt.show()"
   ]
  },
  {
   "cell_type": "code",
   "execution_count": null,
   "metadata": {},
   "outputs": [],
   "source": [
    "rep_sg_p = join_dataFrames(sg, cluster_id, \"ID_ABONNE\")\n",
    "liste = rep_sg_p.groupby([\"Cluster_8\"]).count()\n",
    "donnees_sg_p = pd.DataFrame(liste)\n",
    "donnees_sg_p[\"KMEANS\"] = donnees_sg_p.index\n",
    "plt.figure(figsize=(10, 6))\n",
    "plt.bar(donnees_sg_p[\"KMEANS\"], donnees_sg_p[\"ID_ABONNE\"], color=\"blue\")\n",
    "plt.xlabel(\"Cluster_8\")\n",
    "plt.ylabel(\"Nombre de valeurs\")\n",
    "plt.title(\"Nombre de valeurs par Cluster\")\n",
    "plt.xticks(donnees_sg_p[\"KMEANS\"])\n",
    "plt.show()"
   ]
  },
  {
   "cell_type": "code",
   "execution_count": null,
   "metadata": {},
   "outputs": [],
   "source": [
    "merged_sg_p = pd.merge(donnees_sg_p, total1, on=\"KMEANS\", how=\"left\")\n",
    "merged_sg_p[\"Percentage\"] = (\n",
    "    merged_sg_p[\"ID_ABONNE_x\"] / merged_sg_p[\"ID_ABONNE_y\"]\n",
    ") * 100\n",
    "\n",
    "plt.figure(figsize=(10, 6))\n",
    "plt.bar(merged_sg_p[\"KMEANS\"], merged_sg_p[\"Percentage\"], color=\"blue\")\n",
    "plt.xlabel(\"KMEANS\")\n",
    "plt.ylabel(\"Pourcentage de réabonnement\")\n",
    "plt.title(\"Pourcentage de réabos des clusters en SG\")\n",
    "plt.xticks(merged_sg_p[\"KMEANS\"])\n",
    "plt.show()"
   ]
  },
  {
   "cell_type": "code",
   "execution_count": null,
   "metadata": {},
   "outputs": [],
   "source": [
    "bar_width = 0.35\n",
    "\n",
    "# Position des barres pour les données ODD\n",
    "bar_positions_odd = np.arange(len(merged_df))\n",
    "# Position des barres pour les données SG (décalées de la largeur des barres)\n",
    "bar_positions_sg = bar_positions_odd + bar_width\n",
    "\n",
    "# Création de la figure\n",
    "plt.figure(figsize=(10, 6))\n",
    "\n",
    "# Tracé des barres pour les données ODD\n",
    "plt.bar(\n",
    "    bar_positions_odd,\n",
    "    merged_odd_p[\"Percentage\"],\n",
    "    bar_width,\n",
    "    color=\"yellow\",\n",
    "    label=\"ODD\",\n",
    ")\n",
    "# Tracé des barres pour les données SG\n",
    "plt.bar(\n",
    "    bar_positions_sg, merged_sg_p[\"Percentage\"], bar_width, color=\"blue\", label=\"SG\"\n",
    ")\n",
    "\n",
    "# Étiquetage des axes et du titre\n",
    "plt.xlabel(\"KMEANS\")\n",
    "plt.ylabel(\"Pourcentage de réabonnement\")\n",
    "plt.title(\"Comparaison des pourcentages de réabonnement entre ODD et SG\")\n",
    "plt.xticks(bar_positions_odd + bar_width / 2, merged_df[\"KMEANS\"])\n",
    "plt.legend()\n",
    "\n",
    "# Affichage du graphique\n",
    "plt.tight_layout()\n",
    "plt.show()"
   ]
  }
 ],
 "metadata": {
  "kernelspec": {
   "display_name": "Python 3",
   "language": "python",
   "name": "python3"
  },
  "language_info": {
   "codemirror_mode": {
    "name": "ipython",
    "version": 3
   },
   "file_extension": ".py",
   "mimetype": "text/x-python",
   "name": "python",
   "nbconvert_exporter": "python",
   "pygments_lexer": "ipython3",
   "version": "3.12.8"
  },
  "orig_nbformat": 4
 },
 "nbformat": 4,
 "nbformat_minor": 2
}
